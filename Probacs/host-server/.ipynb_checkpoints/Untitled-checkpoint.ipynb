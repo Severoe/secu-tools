{
 "cells": [
  {
   "cell_type": "code",
   "execution_count": 4,
   "metadata": {
    "collapsed": true
   },
   "outputs": [],
   "source": [
    "import sys,json, time\n",
    "import requests\n",
    "\n",
    "host_ip = \"http://localhost:7789\"\n",
    "jsonDec = json.decoder.JSONDecoder()\n",
    "destination = \"./\"\n",
    "\n",
    "fileresponse = None"
   ]
  },
  {
   "cell_type": "code",
   "execution_count": 14,
   "metadata": {},
   "outputs": [],
   "source": [
    "def handin_task(srcfile, taskfile):\n",
    "\tfiles =  {'srcFile': open(srcfile, 'rb'), 'taskFile': open(taskfile, 'rb')}\n",
    "\tresponse = requests.post(host_ip+\"/cmdline_preview\", files=files)\n",
    "\tconfirm_compile(response.content)\n",
    "\n",
    "\n",
    "def confirm_compile(data):\n",
    "\t'''\n",
    "\tcompile by specifying task_id\n",
    "\t'''\n",
    "\t# print(params)\n",
    "\tprint(data)\n",
    "\tresponse = requests.post(host_ip+\"/cmdline_compile\", data={\"content\":data})\n",
    "\ttask_id = jsonDec.decode(response.content.decode(\"utf-8\"))\n",
    "\tprint(task_id)\n",
    "\ttrace_task(task_id['taskid'])\n",
    "\tdownload_tasks(task_id['taskid'],destination)\n",
    "\n",
    "\n",
    "def trace_task(task_id):\n",
    "\t'''\n",
    "\ttracing tasks by task_id\n",
    "\t''' \n",
    "\tinterval = 1\n",
    "\tkeep_going = True\n",
    "\twhile keep_going:\n",
    "\t\ttime.sleep(interval)\n",
    "\t\tresponse = requests.get(host_ip+\"/trace_task\", params={\"task_id\":task_id})\n",
    "\t\tres = jsonDec.decode(response.content.decode(\"utf-8\"))\n",
    "\t\t####\n",
    "\t\t# update progressbar\n",
    "\t\t####\n",
    "\t\tprint(res)\n",
    "\t\tif res['finished'] == res['total']:\n",
    "\t\t\tkeep_going = False\n",
    "\treturn\n",
    "\t\t\n",
    "\n",
    "def download_tasks(task_id, destination):\n",
    "\tprint(task_id)    \n",
    "\tresponse = requests.post(host_ip+\"/cmdline_download\", data={\"task_id\":task_id})\n",
    "\tfileresponse = response\n",
    "    print(response)\n"
   ]
  },
  {
   "cell_type": "code",
   "execution_count": 15,
   "metadata": {},
   "outputs": [
    {
     "name": "stdout",
     "output_type": "stream",
     "text": [
      "b'{\"rows\": [{\"target_os\": \"Linux\", \"compiler\": \"gcc 6.7\", \"username\": \"jeff\", \"profiles\": \"max_speed, max_optimization\", \"tag\": \"test ajax on linux\", \"flag\": \"-O1, -O0, -Wall\", \"seq\": 1}, {\"target_os\": \"Linux\", \"compiler\": \"gcc 6.7\", \"username\": \"jeff\", \"profiles\": \"max_speed, max_optimization\", \"tag\": \"test ajax on linux\", \"flag\": \"-O0, -O2, -Wall\", \"seq\": 2}, {\"target_os\": \"Linux\", \"compiler\": \"gcc 6.7\", \"username\": \"jeff\", \"profiles\": \"max_speed, max_optimization\", \"tag\": \"test ajax on linux\", \"flag\": \"-O1, -O0, -O3\", \"seq\": 3}, {\"target_os\": \"Linux\", \"compiler\": \"gcc 6.7\", \"username\": \"jeff\", \"profiles\": \"max_speed, max_optimization\", \"tag\": \"test ajax on linux\", \"flag\": \"-O0, -O2, -O3\", \"seq\": 4}], \"taskid\": \"2018-07-13-16-28-06\"}'\n",
      "{'taskid': '2018-07-13-16-28-06'}\n",
      "{'total': 4, 'finished': 0, 'task_id': '2018-07-13-16-28-06', 'log_report': [{'exename': 'hello_1_-O1_-O0_-Wall', 'status': 'ongoing', 'err': '-'}, {'exename': 'hello_2_-O0_-O2_-Wall', 'status': 'ongoing', 'err': '-'}, {'exename': 'hello_3_-O1_-O0_-O3', 'status': 'ongoing', 'err': '-'}, {'exename': 'hello_4_-O0_-O2_-O3', 'status': 'ongoing', 'err': '-'}]}\n",
      "{'total': 4, 'finished': 1, 'task_id': '2018-07-13-16-28-06', 'log_report': [{'exename': 'hello_1_-O1_-O0_-Wall', 'status': 'success', 'err': '-'}, {'exename': 'hello_2_-O0_-O2_-Wall', 'status': 'ongoing', 'err': '-'}, {'exename': 'hello_3_-O1_-O0_-O3', 'status': 'ongoing', 'err': '-'}, {'exename': 'hello_4_-O0_-O2_-O3', 'status': 'ongoing', 'err': '-'}]}\n",
      "{'total': 4, 'finished': 1, 'task_id': '2018-07-13-16-28-06', 'log_report': [{'exename': 'hello_1_-O1_-O0_-Wall', 'status': 'success', 'err': '-'}, {'exename': 'hello_2_-O0_-O2_-Wall', 'status': 'ongoing', 'err': '-'}, {'exename': 'hello_3_-O1_-O0_-O3', 'status': 'ongoing', 'err': '-'}, {'exename': 'hello_4_-O0_-O2_-O3', 'status': 'ongoing', 'err': '-'}]}\n",
      "{'total': 4, 'finished': 2, 'task_id': '2018-07-13-16-28-06', 'log_report': [{'exename': 'hello_1_-O1_-O0_-Wall', 'status': 'success', 'err': '-'}, {'exename': 'hello_2_-O0_-O2_-Wall', 'status': 'success', 'err': '-'}, {'exename': 'hello_3_-O1_-O0_-O3', 'status': 'ongoing', 'err': '-'}, {'exename': 'hello_4_-O0_-O2_-O3', 'status': 'ongoing', 'err': '-'}]}\n",
      "{'total': 4, 'finished': 2, 'task_id': '2018-07-13-16-28-06', 'log_report': [{'exename': 'hello_1_-O1_-O0_-Wall', 'status': 'success', 'err': '-'}, {'exename': 'hello_2_-O0_-O2_-Wall', 'status': 'success', 'err': '-'}, {'exename': 'hello_3_-O1_-O0_-O3', 'status': 'ongoing', 'err': '-'}, {'exename': 'hello_4_-O0_-O2_-O3', 'status': 'ongoing', 'err': '-'}]}\n",
      "{'total': 4, 'finished': 3, 'task_id': '2018-07-13-16-28-06', 'log_report': [{'exename': 'hello_1_-O1_-O0_-Wall', 'status': 'success', 'err': '-'}, {'exename': 'hello_2_-O0_-O2_-Wall', 'status': 'success', 'err': '-'}, {'exename': 'hello_3_-O1_-O0_-O3', 'status': 'success', 'err': '-'}, {'exename': 'hello_4_-O0_-O2_-O3', 'status': 'ongoing', 'err': '-'}]}\n",
      "{'total': 4, 'finished': 3, 'task_id': '2018-07-13-16-28-06', 'log_report': [{'exename': 'hello_1_-O1_-O0_-Wall', 'status': 'success', 'err': '-'}, {'exename': 'hello_2_-O0_-O2_-Wall', 'status': 'success', 'err': '-'}, {'exename': 'hello_3_-O1_-O0_-O3', 'status': 'success', 'err': '-'}, {'exename': 'hello_4_-O0_-O2_-O3', 'status': 'ongoing', 'err': '-'}]}\n",
      "{'total': 4, 'finished': 4, 'task_id': '2018-07-13-16-28-06', 'log_report': [{'exename': 'hello_1_-O1_-O0_-Wall', 'status': 'success', 'err': '-'}, {'exename': 'hello_2_-O0_-O2_-Wall', 'status': 'success', 'err': '-'}, {'exename': 'hello_3_-O1_-O0_-O3', 'status': 'success', 'err': '-'}, {'exename': 'hello_4_-O0_-O2_-O3', 'status': 'success', 'err': '-'}]}\n",
      "2018-07-13-16-28-06\n"
     ]
    }
   ],
   "source": [
    "src = \"../experiment-data/hello.c\"\n",
    "task = \"../experiment-data/sample-task-linux.txt\"\n",
    "handin_task(src,task)"
   ]
  },
  {
   "cell_type": "code",
   "execution_count": 17,
   "metadata": {},
   "outputs": [
    {
     "name": "stdout",
     "output_type": "stream",
     "text": [
      "None\n"
     ]
    }
   ],
   "source": [
    "print(fileresponse)"
   ]
  },
  {
   "cell_type": "code",
   "execution_count": null,
   "metadata": {
    "collapsed": true
   },
   "outputs": [],
   "source": []
  }
 ],
 "metadata": {
  "kernelspec": {
   "display_name": "Python 3",
   "language": "python",
   "name": "python3"
  },
  "language_info": {
   "codemirror_mode": {
    "name": "ipython",
    "version": 3
   },
   "file_extension": ".py",
   "mimetype": "text/x-python",
   "name": "python",
   "nbconvert_exporter": "python",
   "pygments_lexer": "ipython3",
   "version": "3.6.3"
  }
 },
 "nbformat": 4,
 "nbformat_minor": 2
}
